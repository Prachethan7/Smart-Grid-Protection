{
 "cells": [
  {
   "cell_type": "code",
   "execution_count": 11,
   "id": "929b6d5d",
   "metadata": {},
   "outputs": [
    {
     "name": "stdout",
     "output_type": "stream",
     "text": [
      "Number of columns: 71\n",
      "Number of elements in first 10 rows: 710\n"
     ]
    }
   ],
   "source": [
    "import pandas as pd\n",
    "\n",
    "# Read only first 10 rows\n",
    "df_head = pd.read_csv(\"train.csv\", nrows=10, low_memory=False)\n",
    "\n",
    "# Number of columns\n",
    "num_columns = df_head.shape[1]\n",
    "\n",
    "# Number of rows (10) × columns = elements\n",
    "num_elements = df_head.size   # same as 10 * num_columns\n",
    "\n",
    "print(f\"Number of columns: {num_columns}\")\n",
    "print(f\"Number of elements in first 10 rows: {num_elements}\")\n"
   ]
  },
  {
   "cell_type": "code",
   "execution_count": 2,
   "id": "0b93f420",
   "metadata": {},
   "outputs": [
    {
     "name": "stdout",
     "output_type": "stream",
     "text": [
      "Columns: ['id', 'Time', 'isbA', 'isbB', 'isbC', 'ismA', 'ismB', 'ismC', 'vsbA', 'vsbB', 'vsbC', 'vsmA', 'vsmB', 'vsmC', 'isbARmsValue', 'isbBRmsValue', 'iisbCRmsValue', 'ismARmsValue', 'ismBRmsValue', 'ismCRmsValue', 'vsbARmsue', 'vsbBRmsValue', 'vsbCRmsValue', 'vsmARmsValue', 'vsmBRmsValue', 'vsmCRmsValue', 'isbATrapAreaSum', 'isbBTrapAreaSum', 'isbCTrapAreaSum', 'ismATrapAreaSuValm', 'ismBTrapAreaSum', 'ismCTrapAreaSum', 'vsbATrapAreaSum', 'vsbBTrapAreaSum', 'vsbCTrapAreaSum', 'vsmATrapAreaSum', 'vsmBTrapAreaSum', 'vsmCTrapAreaSum', 't', 'GooseTimestamp', 'SqNum', 'StNum', 'cbStatus', 'frameLen', 'ethDst', 'ethSrc', 'ethType', 'gooseTimeAllowedtoLive', 'gooseAppid', 'gooseLen', 'TPID', 'gocbRef', 'datSet', 'goID', 'test', 'confRev', 'ndsCom', 'numDatSetEntries', 'APDUSize', 'protocol', 'stDiff', 'sqDiff', 'gooseLengthDiff', 'cbStatusDiff', 'apduSizeDiff', 'frameLengthDiff', 'timestampDiff', 'tDiff', 'timeFromLastChange', 'delay', 'class']\n",
      "Unique delay types: ['normal' 'random_replay' 'inverse_replay' 'masquerade_fake_fault'\n",
      " 'masquerade_fake_normal' 'injection' 'high_StNum' 'poisoned_high_rate']\n",
      "Counts:\n",
      " delay\n",
      "normal                    2759425\n",
      "random_replay               39000\n",
      "high_StNum                  39000\n",
      "injection                   39000\n",
      "inverse_replay              26033\n",
      "poisoned_high_rate          18574\n",
      "masquerade_fake_normal      17419\n",
      "masquerade_fake_fault       17287\n",
      "Name: count, dtype: int64\n"
     ]
    }
   ],
   "source": [
    "# Run in the active file or a new script\n",
    "import pandas as pd\n",
    "\n",
    "df = pd.read_csv(r'train.csv')\n",
    "print(\"Columns:\", df.columns.tolist())\n",
    "print(\"Unique delay types:\", df['delay'].unique())\n",
    "print(\"Counts:\\n\", df['delay'].value_counts())"
   ]
  }
 ],
 "metadata": {
  "kernelspec": {
   "display_name": "pers",
   "language": "python",
   "name": "python3"
  },
  "language_info": {
   "codemirror_mode": {
    "name": "ipython",
    "version": 3
   },
   "file_extension": ".py",
   "mimetype": "text/x-python",
   "name": "python",
   "nbconvert_exporter": "python",
   "pygments_lexer": "ipython3",
   "version": "3.11.12"
  }
 },
 "nbformat": 4,
 "nbformat_minor": 5
}
